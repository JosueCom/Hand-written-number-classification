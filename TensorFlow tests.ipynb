{
 "cells": [
  {
   "cell_type": "code",
   "execution_count": 2,
   "metadata": {},
   "outputs": [],
   "source": [
    "\n",
    "import numpy as np\n",
    "import matplotlib.pyplot as plt"
   ]
  },
  {
   "cell_type": "code",
   "execution_count": 4,
   "metadata": {},
   "outputs": [
    {
     "name": "stdout",
     "output_type": "stream",
     "text": [
      "Epoch 1/5\n",
      "60000/60000 [==============================] - 30s 495us/step - loss: 0.2027 - acc: 0.9405\n",
      "Epoch 2/5\n",
      "60000/60000 [==============================] - 27s 452us/step - loss: 0.0801 - acc: 0.9756\n",
      "Epoch 3/5\n",
      "60000/60000 [==============================] - 27s 444us/step - loss: 0.0523 - acc: 0.9834\n",
      "Epoch 4/5\n",
      "60000/60000 [==============================] - 27s 451us/step - loss: 0.0360 - acc: 0.9884\n",
      "Epoch 5/5\n",
      "60000/60000 [==============================] - 27s 449us/step - loss: 0.0276 - acc: 0.9914\n",
      "10000/10000 [==============================] - 1s 97us/step\n"
     ]
    },
    {
     "data": {
      "text/plain": [
       "[0.07756829743975541, 0.9778]"
      ]
     },
     "execution_count": 4,
     "metadata": {},
     "output_type": "execute_result"
    }
   ],
   "source": [
    "import tensorflow as tf\n",
    "mnist = tf.keras.datasets.mnist\n",
    "\n",
    "(x_train, y_train),(x_test, y_test) = mnist.load_data()\n",
    "x_train, x_test = x_train / 255.0, x_test / 255.0\n",
    "\n",
    "model = tf.keras.models.Sequential([\n",
    "  tf.keras.layers.Flatten(),\n",
    "  tf.keras.layers.Dense(512, activation=tf.nn.relu),\n",
    "  tf.keras.layers.Dropout(0.2),\n",
    "  tf.keras.layers.Dense(10, activation=tf.nn.softmax)\n",
    "])\n",
    "model.compile(optimizer='adam',\n",
    "              loss='sparse_categorical_crossentropy',\n",
    "              metrics=['accuracy'])\n",
    "\n",
    "model.fit(x_train, y_train, epochs=5)\n",
    "model.evaluate(x_test, y_test)"
   ]
  },
  {
   "cell_type": "code",
   "execution_count": 9,
   "metadata": {
    "scrolled": true
   },
   "outputs": [
    {
     "name": "stdout",
     "output_type": "stream",
     "text": [
      "----------Preditions----------\n",
      "Prediction 5: 1\n",
      "Prediction 6: 4\n",
      "\n",
      "----------Actual image of numbers----------\n"
     ]
    },
    {
     "data": {
      "image/png": "[encoded data removed]",
      "text/plain": [
       "<Figure size 432x288 with 2 Axes>"
      ]
     },
     "metadata": {
      "needs_background": "light"
     },
     "output_type": "display_data"
    },
    {
     "data": {
      "image/png": "[encoded data removed]",
      "text/plain": [
       "<Figure size 432x288 with 2 Axes>"
      ]
     },
     "metadata": {
      "needs_background": "light"
     },
     "output_type": "display_data"
    }
   ],
   "source": [
    "print(\"----------Preditions----------\")\n",
    "for index in range(5, 7):\n",
    "    predictions = model.predict(x_test)\n",
    "    print(\"Prediction \"+ str(index) +\": \" + str(np.argmax(predictions[index])))\n",
    "    plt.figure()\n",
    "    plt.imshow(x_test[index])\n",
    "    plt.colorbar()\n",
    "    plt.grid(False)\n",
    "\n",
    "print()\n",
    "print(\"----------Actual image of numbers----------\")"
   ]
  },
  {
   "cell_type": "code",
   "execution_count": null,
   "metadata": {},
   "outputs": [],
   "source": []
  }
 ],
 "metadata": {
  "kernelspec": {
   "display_name": "Python 3",
   "language": "python",
   "name": "python3"
  },
  "language_info": {
   "codemirror_mode": {
    "name": "ipython",
    "version": 3
   },
   "file_extension": ".py",
   "mimetype": "text/x-python",
   "name": "python",
   "nbconvert_exporter": "python",
   "pygments_lexer": "ipython3",
   "version": "3.6.7"
  }
 },
 "nbformat": 4,
 "nbformat_minor": 2
}
